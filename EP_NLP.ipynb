{
  "nbformat": 4,
  "nbformat_minor": 0,
  "metadata": {
    "colab": {
      "provenance": [],
      "machine_shape": "hm",
      "gpuType": "L4",
      "authorship_tag": "ABX9TyNDFI/OTY4PMPRKW1LQC1Mr",
      "include_colab_link": true
    },
    "kernelspec": {
      "name": "python3",
      "display_name": "Python 3"
    },
    "language_info": {
      "name": "python"
    },
    "accelerator": "GPU"
  },
  "cells": [
    {
      "cell_type": "markdown",
      "metadata": {
        "id": "view-in-github",
        "colab_type": "text"
      },
      "source": [
        "<a href=\"https://colab.research.google.com/github/reddy7356/reddy7356/blob/main/EP_NLP.ipynb\" target=\"_parent\"><img src=\"https://colab.research.google.com/assets/colab-badge.svg\" alt=\"Open In Colab\"/></a>"
      ]
    },
    {
      "cell_type": "code",
      "source": [
        "# Install required packages (uncomment these lines if necessary)\n",
        "# !pip install PyPDF2\n",
        "# !pip install nltk\n",
        "\n",
        "import nltk\n",
        "import PyPDF2\n",
        "import os\n",
        "\n",
        "# Download 'punkt' tokenizer data\n",
        "nltk.download('punkt')\n",
        "\n",
        "# Define the file path for the PDF\n",
        "file_path = './documents/literature.pdf'\n",
        "\n",
        "\n",
        "# Check if the file exists\n",
        "if os.path.exists(file_path):\n",
        "    with open(file_path, 'rb') as pdf_file:\n",
        "        pdf_reader = PyPDF2.PdfReader(pdf_file)\n",
        "        text = \"\"\n",
        "\n",
        "        # Extract text from each page of the PDF\n",
        "        for page in pdf_reader.pages:\n",
        "            page_text = page.extract_text()\n",
        "            if page_text:\n",
        "                text += page_text\n",
        "\n",
        "    # After extracting the text, tokenize sentences and words\n",
        "    if text:\n",
        "        sentences = nltk.sent_tokenize(text)\n",
        "        print(f\"Extracted {len(sentences)} sentences.\")\n",
        "\n",
        "        if len(sentences) >= 4:\n",
        "            # Tokenize the fourth sentence\n",
        "            tokenized_sent = nltk.word_tokenize(sentences[3])\n",
        "            print(\"Tokenized fourth sentence:\", tokenized_sent)\n",
        "        else:\n",
        "            print(\"The document has less than four sentences.\")\n",
        "    else:\n",
        "        print(\"No text extracted from the PDF.\")\n",
        "else:\n",
        "    print(f\"File not found: {file_path}\")\n"
      ],
      "metadata": {
        "colab": {
          "base_uri": "https://localhost:8080/"
        },
        "id": "kcKyXdt1xthY",
        "outputId": "52d53370-6730-48f3-c8cf-618c85025028"
      },
      "execution_count": null,
      "outputs": [
        {
          "output_type": "stream",
          "name": "stdout",
          "text": [
            "File not found: ./documents/literature.pdf\n"
          ]
        },
        {
          "output_type": "stream",
          "name": "stderr",
          "text": [
            "[nltk_data] Downloading package punkt to /root/nltk_data...\n",
            "[nltk_data]   Package punkt is already up-to-date!\n"
          ]
        }
      ]
    },
    {
      "cell_type": "code",
      "source": [
        "import os\n",
        "print(os.getcwd())  # This prints the current working directory\n"
      ],
      "metadata": {
        "colab": {
          "base_uri": "https://localhost:8080/"
        },
        "id": "HUV29k1fykpv",
        "outputId": "a6d6d0f1-c54e-4aa8-f141-ae1760dfb25d"
      },
      "execution_count": null,
      "outputs": [
        {
          "output_type": "stream",
          "name": "stdout",
          "text": [
            "/content\n"
          ]
        }
      ]
    },
    {
      "cell_type": "code",
      "source": [
        "file_path = './documents/literature.pdf'\n"
      ],
      "metadata": {
        "id": "eyuknOzFzA4_"
      },
      "execution_count": null,
      "outputs": []
    },
    {
      "cell_type": "code",
      "source": [
        "from google.colab import files\n",
        "\n",
        "# Upload the file, this will prompt you to select the file from your local system\n",
        "uploaded = files.upload()\n",
        "\n",
        "# Get the name of the uploaded file\n",
        "for file_name in uploaded.keys():\n",
        "    print(f\"Uploaded file: {'./documents/literature.pdf'}\")\n"
      ],
      "metadata": {
        "colab": {
          "base_uri": "https://localhost:8080/",
          "height": 95
        },
        "id": "NxLZq48d1kt-",
        "outputId": "c76c491e-59c2-4553-f917-7e60b1184865"
      },
      "execution_count": null,
      "outputs": [
        {
          "output_type": "display_data",
          "data": {
            "text/plain": [
              "<IPython.core.display.HTML object>"
            ],
            "text/html": [
              "\n",
              "     <input type=\"file\" id=\"files-6c9533a4-dfbf-40c0-a8ec-bae55bdbaedf\" name=\"files[]\" multiple disabled\n",
              "        style=\"border:none\" />\n",
              "     <output id=\"result-6c9533a4-dfbf-40c0-a8ec-bae55bdbaedf\">\n",
              "      Upload widget is only available when the cell has been executed in the\n",
              "      current browser session. Please rerun this cell to enable.\n",
              "      </output>\n",
              "      <script>// Copyright 2017 Google LLC\n",
              "//\n",
              "// Licensed under the Apache License, Version 2.0 (the \"License\");\n",
              "// you may not use this file except in compliance with the License.\n",
              "// You may obtain a copy of the License at\n",
              "//\n",
              "//      http://www.apache.org/licenses/LICENSE-2.0\n",
              "//\n",
              "// Unless required by applicable law or agreed to in writing, software\n",
              "// distributed under the License is distributed on an \"AS IS\" BASIS,\n",
              "// WITHOUT WARRANTIES OR CONDITIONS OF ANY KIND, either express or implied.\n",
              "// See the License for the specific language governing permissions and\n",
              "// limitations under the License.\n",
              "\n",
              "/**\n",
              " * @fileoverview Helpers for google.colab Python module.\n",
              " */\n",
              "(function(scope) {\n",
              "function span(text, styleAttributes = {}) {\n",
              "  const element = document.createElement('span');\n",
              "  element.textContent = text;\n",
              "  for (const key of Object.keys(styleAttributes)) {\n",
              "    element.style[key] = styleAttributes[key];\n",
              "  }\n",
              "  return element;\n",
              "}\n",
              "\n",
              "// Max number of bytes which will be uploaded at a time.\n",
              "const MAX_PAYLOAD_SIZE = 100 * 1024;\n",
              "\n",
              "function _uploadFiles(inputId, outputId) {\n",
              "  const steps = uploadFilesStep(inputId, outputId);\n",
              "  const outputElement = document.getElementById(outputId);\n",
              "  // Cache steps on the outputElement to make it available for the next call\n",
              "  // to uploadFilesContinue from Python.\n",
              "  outputElement.steps = steps;\n",
              "\n",
              "  return _uploadFilesContinue(outputId);\n",
              "}\n",
              "\n",
              "// This is roughly an async generator (not supported in the browser yet),\n",
              "// where there are multiple asynchronous steps and the Python side is going\n",
              "// to poll for completion of each step.\n",
              "// This uses a Promise to block the python side on completion of each step,\n",
              "// then passes the result of the previous step as the input to the next step.\n",
              "function _uploadFilesContinue(outputId) {\n",
              "  const outputElement = document.getElementById(outputId);\n",
              "  const steps = outputElement.steps;\n",
              "\n",
              "  const next = steps.next(outputElement.lastPromiseValue);\n",
              "  return Promise.resolve(next.value.promise).then((value) => {\n",
              "    // Cache the last promise value to make it available to the next\n",
              "    // step of the generator.\n",
              "    outputElement.lastPromiseValue = value;\n",
              "    return next.value.response;\n",
              "  });\n",
              "}\n",
              "\n",
              "/**\n",
              " * Generator function which is called between each async step of the upload\n",
              " * process.\n",
              " * @param {string} inputId Element ID of the input file picker element.\n",
              " * @param {string} outputId Element ID of the output display.\n",
              " * @return {!Iterable<!Object>} Iterable of next steps.\n",
              " */\n",
              "function* uploadFilesStep(inputId, outputId) {\n",
              "  const inputElement = document.getElementById(inputId);\n",
              "  inputElement.disabled = false;\n",
              "\n",
              "  const outputElement = document.getElementById(outputId);\n",
              "  outputElement.innerHTML = '';\n",
              "\n",
              "  const pickedPromise = new Promise((resolve) => {\n",
              "    inputElement.addEventListener('change', (e) => {\n",
              "      resolve(e.target.files);\n",
              "    });\n",
              "  });\n",
              "\n",
              "  const cancel = document.createElement('button');\n",
              "  inputElement.parentElement.appendChild(cancel);\n",
              "  cancel.textContent = 'Cancel upload';\n",
              "  const cancelPromise = new Promise((resolve) => {\n",
              "    cancel.onclick = () => {\n",
              "      resolve(null);\n",
              "    };\n",
              "  });\n",
              "\n",
              "  // Wait for the user to pick the files.\n",
              "  const files = yield {\n",
              "    promise: Promise.race([pickedPromise, cancelPromise]),\n",
              "    response: {\n",
              "      action: 'starting',\n",
              "    }\n",
              "  };\n",
              "\n",
              "  cancel.remove();\n",
              "\n",
              "  // Disable the input element since further picks are not allowed.\n",
              "  inputElement.disabled = true;\n",
              "\n",
              "  if (!files) {\n",
              "    return {\n",
              "      response: {\n",
              "        action: 'complete',\n",
              "      }\n",
              "    };\n",
              "  }\n",
              "\n",
              "  for (const file of files) {\n",
              "    const li = document.createElement('li');\n",
              "    li.append(span(file.name, {fontWeight: 'bold'}));\n",
              "    li.append(span(\n",
              "        `(${file.type || 'n/a'}) - ${file.size} bytes, ` +\n",
              "        `last modified: ${\n",
              "            file.lastModifiedDate ? file.lastModifiedDate.toLocaleDateString() :\n",
              "                                    'n/a'} - `));\n",
              "    const percent = span('0% done');\n",
              "    li.appendChild(percent);\n",
              "\n",
              "    outputElement.appendChild(li);\n",
              "\n",
              "    const fileDataPromise = new Promise((resolve) => {\n",
              "      const reader = new FileReader();\n",
              "      reader.onload = (e) => {\n",
              "        resolve(e.target.result);\n",
              "      };\n",
              "      reader.readAsArrayBuffer(file);\n",
              "    });\n",
              "    // Wait for the data to be ready.\n",
              "    let fileData = yield {\n",
              "      promise: fileDataPromise,\n",
              "      response: {\n",
              "        action: 'continue',\n",
              "      }\n",
              "    };\n",
              "\n",
              "    // Use a chunked sending to avoid message size limits. See b/62115660.\n",
              "    let position = 0;\n",
              "    do {\n",
              "      const length = Math.min(fileData.byteLength - position, MAX_PAYLOAD_SIZE);\n",
              "      const chunk = new Uint8Array(fileData, position, length);\n",
              "      position += length;\n",
              "\n",
              "      const base64 = btoa(String.fromCharCode.apply(null, chunk));\n",
              "      yield {\n",
              "        response: {\n",
              "          action: 'append',\n",
              "          file: file.name,\n",
              "          data: base64,\n",
              "        },\n",
              "      };\n",
              "\n",
              "      let percentDone = fileData.byteLength === 0 ?\n",
              "          100 :\n",
              "          Math.round((position / fileData.byteLength) * 100);\n",
              "      percent.textContent = `${percentDone}% done`;\n",
              "\n",
              "    } while (position < fileData.byteLength);\n",
              "  }\n",
              "\n",
              "  // All done.\n",
              "  yield {\n",
              "    response: {\n",
              "      action: 'complete',\n",
              "    }\n",
              "  };\n",
              "}\n",
              "\n",
              "scope.google = scope.google || {};\n",
              "scope.google.colab = scope.google.colab || {};\n",
              "scope.google.colab._files = {\n",
              "  _uploadFiles,\n",
              "  _uploadFilesContinue,\n",
              "};\n",
              "})(self);\n",
              "</script> "
            ]
          },
          "metadata": {}
        },
        {
          "output_type": "stream",
          "name": "stdout",
          "text": [
            "Saving literature.pdf to literature (4).pdf\n",
            "Uploaded file: ./documents/literature.pdf\n"
          ]
        }
      ]
    },
    {
      "cell_type": "code",
      "source": [
        "import PyPDF2\n",
        "\n",
        "# After uploading the file, use the correct path\n",
        "file_path = '/content/literature.pdf'\n",
        "\n",
        "# Open and read the PDF file\n",
        "with open(file_path, 'rb') as pdf_file:\n",
        "    pdf_reader = PyPDF2.PdfReader(pdf_file)\n",
        "    text = \"\"\n",
        "\n",
        "    # Extract text from each page of the PDF\n",
        "    for page in pdf_reader.pages:\n",
        "        page_text = page.extract_text()\n",
        "        if page_text:\n",
        "            text += page_text\n",
        "\n",
        "# Print extracted text or proceed with tokenization\n",
        "print(text[:500])  # Print the first 500 characters of the extracted text\n"
      ],
      "metadata": {
        "colab": {
          "base_uri": "https://localhost:8080/"
        },
        "id": "UjK2e8gi2uPI",
        "outputId": "b68688e9-4a76-4266-f04c-c1152241f884"
      },
      "execution_count": null,
      "outputs": [
        {
          "output_type": "stream",
          "name": "stdout",
          "text": [
            "1 3J Anesth (2016) 30:929–934\n",
            "DOI 10.1007/s00540-016-2252-8\n",
            "ORIGINAL ARTICLE\n",
            "The effects of  intravenous anesthetics on  QT interval \n",
            "during  anesthetic induction with  sevoflurane\n",
            "Yoshiaki  Terao1  · Ushio  Higashijima1 · Tomomi  Toyoda1 · Taiga  Ichinomiya1 · \n",
            "Makoto  Fukusaki1 · Tetsuya  Hara2 \n",
            "Received: 23 March 2016 / Accepted: 14 September 2016 / Published online: 21 September 2016 \n",
            "© Japanese Society of Anesthesiologists 2016\n",
            "both groups. At T3, MAP in Group T was higher than in \n",
            "Group P,\n"
          ]
        }
      ]
    },
    {
      "cell_type": "code",
      "source": [
        "from collections import Counter\n",
        "import nltk\n",
        "#tokenize the pdf_file:tokens\n",
        "tokens=nltk.word_tokenize(text)\n",
        "#convert the tokens to lower case:lower_tokens\n",
        "lower_tokens=[t.lower() for t in tokens]\n",
        "#create a counter with the lowercase tokens:\n",
        "from collections import Counter\n",
        "count=Counter(lower_tokens)\n",
        "#create acounter with  bag of words with lower_case tokens:bow_simple\n",
        "bow_simple=Counter(lower_tokens)\n",
        "#print the 10 most common tokens\n",
        "print(bow_simple.most_common(10))\n",
        "\n",
        "\n"
      ],
      "metadata": {
        "colab": {
          "base_uri": "https://localhost:8080/"
        },
        "id": "10fMlrQQlSkz",
        "outputId": "314c15ac-bd89-40ce-d2ba-71f1a203ffa7"
      },
      "execution_count": 46,
      "outputs": [
        {
          "output_type": "stream",
          "name": "stdout",
          "text": [
            "[(',', 293), ('.', 279), ('the', 158), ('(', 144), (')', 143), ('of', 134), (']', 106), ('and', 105), ('[', 105), ('in', 76)]\n"
          ]
        }
      ]
    },
    {
      "cell_type": "code",
      "source": [
        "#import WorldNetLemmatizer\n",
        "from nltk.stem import WordNetLemmatizer\n",
        "wordnet_lemmatizer=WordNetLemmatizer()\n",
        "#retain only alphabetics:alpha_only\n",
        "import re\n",
        "alpha_only=[t for t in lower_tokens if re.match(r'[a-zA-Z]+',t)]\n",
        "#remove all stop_words:no_stops\n",
        "from nltk.corpus import stopwords\n",
        "import nltk\n",
        "nltk.download('stopwords')\n",
        "stop_words=set(stopwords.words('english'))\n",
        "no_stops=[t for t in alpha_only if t not in stop_words]\n",
        "# Instantiate the WordNetLemmatizer\n",
        "wordnet_lemmatizer = WordNetLemmatizer()\n",
        "import nltk\n",
        "nltk.download('wordnet')\n",
        "#lemmatize all the tokens into a new list:lemmatized\n",
        "lemmatized=[wordnet_lemmatizer.lemmatize(t) for t in no_stops]\n",
        "#create bag of words:bow\n",
        "bow=Counter(lemmatized)\n",
        "#print the 10 most common tokens\n",
        "print(bow.most_common(10))\n"
      ],
      "metadata": {
        "colab": {
          "base_uri": "https://localhost:8080/"
        },
        "id": "f7Y7-Tdkogxm",
        "outputId": "ce757abd-357e-4c00-d531-5749de1314cd"
      },
      "execution_count": 52,
      "outputs": [
        {
          "output_type": "stream",
          "name": "stdout",
          "text": [
            "[('interval', 78), ('propofol', 50), ('qt', 48), ('qtc', 46), ('group', 41), ('sevoflurane', 37), ('patient', 32), ('anesthesia', 28), ('j', 28), ('induction', 27)]\n"
          ]
        },
        {
          "output_type": "stream",
          "name": "stderr",
          "text": [
            "[nltk_data] Downloading package stopwords to /root/nltk_data...\n",
            "[nltk_data]   Package stopwords is already up-to-date!\n",
            "[nltk_data] Downloading package wordnet to /root/nltk_data...\n",
            "[nltk_data]   Package wordnet is already up-to-date!\n"
          ]
        }
      ]
    },
    {
      "cell_type": "code",
      "source": [
        "#tokenize the article into sentences:sentences\n",
        "sentences=nltk.sent_tokenize(text)\n",
        "#tokenize each sentences into words:token_sentences\n",
        "token_sentences=[nltk.word_tokenize(sent) for sent in sentences]\n",
        "#print the first 5 sentences\n",
        "print(token_sentences[:5])\n",
        "import nltk\n",
        "nltk.download('averaged_perceptron_tagger')\n",
        "#Tag each sentence into parts of speech:pos_sentence\n",
        "pos_sentences=[nltk.pos_tag(sent) for sent in token_sentences]\n",
        "#print the first 5 pos_sentences\n",
        "print(pos_sentences[:5])\n"
      ],
      "metadata": {
        "colab": {
          "base_uri": "https://localhost:8080/"
        },
        "id": "GfK4xr3yAqYo",
        "outputId": "6a275f69-cf33-439a-b85f-c15a5e96d6f1"
      },
      "execution_count": 58,
      "outputs": [
        {
          "output_type": "stream",
          "name": "stdout",
          "text": [
            "[['1', '3J', 'Anesth', '(', '2016', ')', '30:929–934', 'DOI', '10.1007/s00540-016-2252-8', 'ORIGINAL', 'ARTICLE', 'The', 'effects', 'of', 'intravenous', 'anesthetics', 'on', 'QT', 'interval', 'during', 'anesthetic', 'induction', 'with', 'sevoflurane', 'Yoshiaki', 'Terao1', '·', 'Ushio', 'Higashijima1', '·', 'Tomomi', 'Toyoda1', '·', 'Taiga', 'Ichinomiya1', '·', 'Makoto', 'Fukusaki1', '·', 'Tetsuya', 'Hara2', 'Received', ':', '23', 'March', '2016', '/', 'Accepted', ':', '14', 'September', '2016', '/', 'Published', 'online', ':', '21', 'September', '2016', '©', 'Japanese', 'Society', 'of', 'Anesthesiologists', '2016', 'both', 'groups', '.'], ['At', 'T3', ',', 'MAP', 'in', 'Group', 'T', 'was', 'higher', 'than', 'in', 'Group', 'P', ',', 'while', 'HR', 'had', 'reduced', 'in', 'both', 'groups', '.'], ['The', 'QTc', 'interval', 'was', 'prolonged', 'after', 'anesthesia', 'induction', 'in', 'Group', 'T', ',', 'but', 'did', 'not', 'change', 'at', 'any', 'time', 'point', 'in', 'Group', 'P.', 'The', 'QTc', 'interval', 'after', 'anesthesia', 'induction', 'in', 'Group', 'T', 'was', 'longer', 'than', 'in', 'Group', 'P.', 'Conclusion', 'We', 'concluded', 'that', 'an', 'injection', 'of', 'propofol', 'could', 'counteract', 'QTc', 'interval', 'prolongation', 'associated', 'with', 'sevoflurane', 'anesthesia', 'induction', '.'], ['Keywords', 'Propofol', '·', 'Sevoflurane', '·', 'Thiamylal', '·', 'QT', 'interval', '·', 'QT', 'dispersion', '·', 'Dysrhythmias', 'Introduction', 'The', 'QT', 'interval', 'of', 'the', 'electrocardiogram', '(', 'ECG', ')', 'represents', 'the', 'period', 'of', 'myocardial', 'depolarization', 'and', 'repolariza', '-', 'tion', '.'], ['Heart', 'rate-corrected', 'QT', '(', 'QTc', ')', 'interval', 'prolongation', 'is', 'associated', 'with', 'life-threatening', 'dysrhythmias', ',', 'including', 'polymorphic', 'ventricular', 'tachycardia', '(', 'torsade', 'de', 'pointes', ')', ',', 'and', 'it', 'is', 'important', 'to', 'know', 'which', 'anesthesia', 'patients', 'are', 'at', 'risk', 'of', 'prolonged', 'QTc', 'interval', '.']]\n"
          ]
        },
        {
          "output_type": "stream",
          "name": "stderr",
          "text": [
            "[nltk_data] Downloading package averaged_perceptron_tagger to\n",
            "[nltk_data]     /root/nltk_data...\n",
            "[nltk_data]   Unzipping taggers/averaged_perceptron_tagger.zip.\n"
          ]
        },
        {
          "output_type": "stream",
          "name": "stdout",
          "text": [
            "[[('1', 'CD'), ('3J', 'CD'), ('Anesth', 'NNP'), ('(', '('), ('2016', 'CD'), (')', ')'), ('30:929–934', 'CD'), ('DOI', 'NNP'), ('10.1007/s00540-016-2252-8', 'JJ'), ('ORIGINAL', 'NNP'), ('ARTICLE', 'NNP'), ('The', 'DT'), ('effects', 'NNS'), ('of', 'IN'), ('intravenous', 'JJ'), ('anesthetics', 'NNS'), ('on', 'IN'), ('QT', 'NNP'), ('interval', 'NN'), ('during', 'IN'), ('anesthetic', 'JJ'), ('induction', 'NN'), ('with', 'IN'), ('sevoflurane', 'NN'), ('Yoshiaki', 'NNP'), ('Terao1', 'NNP'), ('·', 'NNP'), ('Ushio', 'NNP'), ('Higashijima1', 'NNP'), ('·', 'NNP'), ('Tomomi', 'NNP'), ('Toyoda1', 'NNP'), ('·', 'NNP'), ('Taiga', 'NNP'), ('Ichinomiya1', 'NNP'), ('·', 'NNP'), ('Makoto', 'NNP'), ('Fukusaki1', 'NNP'), ('·', 'NNP'), ('Tetsuya', 'NNP'), ('Hara2', 'NNP'), ('Received', 'VBD'), (':', ':'), ('23', 'CD'), ('March', 'NNP'), ('2016', 'CD'), ('/', 'NNP'), ('Accepted', 'VBD'), (':', ':'), ('14', 'CD'), ('September', 'NNP'), ('2016', 'CD'), ('/', 'NNP'), ('Published', 'NNP'), ('online', 'NN'), (':', ':'), ('21', 'CD'), ('September', 'NNP'), ('2016', 'CD'), ('©', 'NNP'), ('Japanese', 'JJ'), ('Society', 'NNP'), ('of', 'IN'), ('Anesthesiologists', 'NNPS'), ('2016', 'CD'), ('both', 'DT'), ('groups', 'NNS'), ('.', '.')], [('At', 'IN'), ('T3', 'NNP'), (',', ','), ('MAP', 'NNP'), ('in', 'IN'), ('Group', 'NNP'), ('T', 'NNP'), ('was', 'VBD'), ('higher', 'JJR'), ('than', 'IN'), ('in', 'IN'), ('Group', 'NNP'), ('P', 'NNP'), (',', ','), ('while', 'IN'), ('HR', 'NNP'), ('had', 'VBD'), ('reduced', 'VBN'), ('in', 'IN'), ('both', 'DT'), ('groups', 'NNS'), ('.', '.')], [('The', 'DT'), ('QTc', 'NNP'), ('interval', 'NN'), ('was', 'VBD'), ('prolonged', 'VBN'), ('after', 'IN'), ('anesthesia', 'JJ'), ('induction', 'NN'), ('in', 'IN'), ('Group', 'NNP'), ('T', 'NNP'), (',', ','), ('but', 'CC'), ('did', 'VBD'), ('not', 'RB'), ('change', 'VB'), ('at', 'IN'), ('any', 'DT'), ('time', 'NN'), ('point', 'NN'), ('in', 'IN'), ('Group', 'NNP'), ('P.', 'NNP'), ('The', 'DT'), ('QTc', 'NNP'), ('interval', 'NN'), ('after', 'IN'), ('anesthesia', 'JJ'), ('induction', 'NN'), ('in', 'IN'), ('Group', 'NNP'), ('T', 'NNP'), ('was', 'VBD'), ('longer', 'JJR'), ('than', 'IN'), ('in', 'IN'), ('Group', 'NNP'), ('P.', 'NNP'), ('Conclusion', 'NNP'), ('We', 'PRP'), ('concluded', 'VBD'), ('that', 'IN'), ('an', 'DT'), ('injection', 'NN'), ('of', 'IN'), ('propofol', 'NN'), ('could', 'MD'), ('counteract', 'VB'), ('QTc', 'NNP'), ('interval', 'JJ'), ('prolongation', 'NN'), ('associated', 'VBN'), ('with', 'IN'), ('sevoflurane', 'NN'), ('anesthesia', 'NN'), ('induction', 'NN'), ('.', '.')], [('Keywords', 'NNS'), ('Propofol', 'NNP'), ('·', 'NNP'), ('Sevoflurane', 'NNP'), ('·', 'NNP'), ('Thiamylal', 'NNP'), ('·', 'NNP'), ('QT', 'NNP'), ('interval', 'NN'), ('·', 'NNP'), ('QT', 'NNP'), ('dispersion', 'NN'), ('·', 'NNP'), ('Dysrhythmias', 'NNP'), ('Introduction', 'NNP'), ('The', 'DT'), ('QT', 'NNP'), ('interval', 'NN'), ('of', 'IN'), ('the', 'DT'), ('electrocardiogram', 'NN'), ('(', '('), ('ECG', 'NNP'), (')', ')'), ('represents', 'VBZ'), ('the', 'DT'), ('period', 'NN'), ('of', 'IN'), ('myocardial', 'JJ'), ('depolarization', 'NN'), ('and', 'CC'), ('repolariza', 'VB'), ('-', ':'), ('tion', 'NN'), ('.', '.')], [('Heart', 'NNP'), ('rate-corrected', 'JJ'), ('QT', 'NNP'), ('(', '('), ('QTc', 'NNP'), (')', ')'), ('interval', 'NN'), ('prolongation', 'NN'), ('is', 'VBZ'), ('associated', 'VBN'), ('with', 'IN'), ('life-threatening', 'JJ'), ('dysrhythmias', 'NNS'), (',', ','), ('including', 'VBG'), ('polymorphic', 'JJ'), ('ventricular', 'JJ'), ('tachycardia', 'NN'), ('(', '('), ('torsade', 'FW'), ('de', 'FW'), ('pointes', 'NNS'), (')', ')'), (',', ','), ('and', 'CC'), ('it', 'PRP'), ('is', 'VBZ'), ('important', 'JJ'), ('to', 'TO'), ('know', 'VB'), ('which', 'WDT'), ('anesthesia', 'NN'), ('patients', 'NNS'), ('are', 'VBP'), ('at', 'IN'), ('risk', 'NN'), ('of', 'IN'), ('prolonged', 'JJ'), ('QTc', 'NNP'), ('interval', 'NN'), ('.', '.')]]\n"
          ]
        }
      ]
    }
  ]
}