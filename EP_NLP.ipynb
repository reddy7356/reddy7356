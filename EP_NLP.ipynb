{
  "nbformat": 4,
  "nbformat_minor": 0,
  "metadata": {
    "colab": {
      "provenance": [],
      "machine_shape": "hm",
      "gpuType": "L4",
      "authorship_tag": "ABX9TyOTBBy/TKrmug9JR+NikGsM",
      "include_colab_link": true
    },
    "kernelspec": {
      "name": "python3",
      "display_name": "Python 3"
    },
    "language_info": {
      "name": "python"
    },
    "accelerator": "GPU"
  },
  "cells": [
    {
      "cell_type": "markdown",
      "metadata": {
        "id": "view-in-github",
        "colab_type": "text"
      },
      "source": [
        "<a href=\"https://colab.research.google.com/github/reddy7356/reddy7356/blob/main/EP_NLP.ipynb\" target=\"_parent\"><img src=\"https://colab.research.google.com/assets/colab-badge.svg\" alt=\"Open In Colab\"/></a>"
      ]
    },
    {
      "cell_type": "code",
      "source": [
        "!pip install PyPDF2"
      ],
      "metadata": {
        "id": "3C1QPcxg_7fM",
        "outputId": "d0d57047-9099-419b-9cfb-635311f7e2c2",
        "colab": {
          "base_uri": "https://localhost:8080/"
        }
      },
      "execution_count": 2,
      "outputs": [
        {
          "output_type": "stream",
          "name": "stdout",
          "text": [
            "Collecting PyPDF2\n",
            "  Downloading pypdf2-3.0.1-py3-none-any.whl.metadata (6.8 kB)\n",
            "Downloading pypdf2-3.0.1-py3-none-any.whl (232 kB)\n",
            "\u001b[?25l   \u001b[90m━━━━━━━━━━━━━━━━━━━━━━━━━━━━━━━━━━━━━━━━\u001b[0m \u001b[32m0.0/232.6 kB\u001b[0m \u001b[31m?\u001b[0m eta \u001b[36m-:--:--\u001b[0m\r\u001b[2K   \u001b[90m━━━━━━━━━━━━━━━━━━━━━━━━━━━━━━━━━━━━━━━━\u001b[0m \u001b[32m232.6/232.6 kB\u001b[0m \u001b[31m6.8 MB/s\u001b[0m eta \u001b[36m0:00:00\u001b[0m\n",
            "\u001b[?25hInstalling collected packages: PyPDF2\n",
            "Successfully installed PyPDF2-3.0.1\n"
          ]
        }
      ]
    },
    {
      "cell_type": "code",
      "source": [
        "# Install required packages (uncomment these lines if necessary)\n",
        "# !pip install PyPDF2\n",
        "# !pip install nltk\n",
        "\n",
        "import nltk\n",
        "import PyPDF2\n",
        "import os\n",
        "\n",
        "# Download 'punkt' tokenizer data\n",
        "nltk.download('punkt_tab')\n",
        "\n",
        "# Define the file path for the PDF\n",
        "file_path = '/content/NLP.pdf'\n",
        "\n",
        "\n",
        "# Check if the file exists\n",
        "if os.path.exists(file_path):\n",
        "    with open(file_path, 'rb') as pdf_file:\n",
        "        pdf_reader = PyPDF2.PdfReader(pdf_file)\n",
        "        text = \"\"\n",
        "\n",
        "        # Extract text from each page of the PDF\n",
        "        for page in pdf_reader.pages:\n",
        "            page_text = page.extract_text()\n",
        "            if page_text:\n",
        "                text += page_text\n",
        "\n",
        "    # After extracting the text, tokenize sentences and words\n",
        "    if text:\n",
        "        sentences = nltk.sent_tokenize(text)\n",
        "        print(f\"Extracted {len(sentences)} sentences.\")\n",
        "\n",
        "        if len(sentences) >= 4:\n",
        "            # Tokenize the fourth sentence\n",
        "            tokenized_sent = nltk.word_tokenize(sentences[3])\n",
        "            print(\"Tokenized fourth sentence:\", tokenized_sent)\n",
        "        else:\n",
        "            print(\"The document has less than four sentences.\")\n",
        "    else:\n",
        "        print(\"No text extracted from the PDF.\")\n",
        "else:\n",
        "    print(f\"File not found: {file_path}\")\n"
      ],
      "metadata": {
        "colab": {
          "base_uri": "https://localhost:8080/"
        },
        "id": "kcKyXdt1xthY",
        "outputId": "eee97af4-61e4-4f55-91a4-522ffb9f6dde"
      },
      "execution_count": 4,
      "outputs": [
        {
          "output_type": "stream",
          "name": "stderr",
          "text": [
            "[nltk_data] Downloading package punkt_tab to /root/nltk_data...\n",
            "[nltk_data]   Unzipping tokenizers/punkt_tab.zip.\n"
          ]
        },
        {
          "output_type": "stream",
          "name": "stdout",
          "text": [
            "Extracted 279 sentences.\n",
            "Tokenized fourth sentence: ['Keywords', 'Propofol', '·', 'Sevoflurane', '·', 'Thiamylal', '·', 'QT', 'interval', '·', 'QT', 'dispersion', '·', 'Dysrhythmias', 'Introduction', 'The', 'QT', 'interval', 'of', 'the', 'electrocardiogram', '(', 'ECG', ')', 'represents', 'the', 'period', 'of', 'myocardial', 'depolarization', 'and', 'repolariza', '-', 'tion', '.']\n"
          ]
        }
      ]
    },
    {
      "cell_type": "code",
      "source": [
        "import os\n",
        "print(os.getcwd())  # This prints the current working directory\n"
      ],
      "metadata": {
        "colab": {
          "base_uri": "https://localhost:8080/"
        },
        "id": "HUV29k1fykpv",
        "outputId": "b30abbb1-ab02-4c27-ab7e-e36111671ff6"
      },
      "execution_count": 5,
      "outputs": [
        {
          "output_type": "stream",
          "name": "stdout",
          "text": [
            "/content\n"
          ]
        }
      ]
    },
    {
      "cell_type": "code",
      "source": [
        "import PyPDF2\n",
        "\n",
        "# After uploading the file, use the correct path\n",
        "file_path = \"/content/NLP.pdf\"\n",
        "\n",
        "# Open and read the PDF file\n",
        "with open(file_path, 'rb') as pdf_file:\n",
        "    pdf_reader = PyPDF2.PdfReader(pdf_file)\n",
        "    text = \"\"\n",
        "\n",
        "    # Extract text from each page of the PDF\n",
        "    for page in pdf_reader.pages:\n",
        "        page_text = page.extract_text()\n",
        "        if page_text:\n",
        "            text += page_text\n",
        "\n",
        "# Print extracted text or proceed with tokenization\n",
        "print(text[:500])  # Print the first 500 characters of the extracted text\n"
      ],
      "metadata": {
        "colab": {
          "base_uri": "https://localhost:8080/"
        },
        "id": "UjK2e8gi2uPI",
        "outputId": "d6abda95-f405-49d6-96b0-1616a5065174"
      },
      "execution_count": 7,
      "outputs": [
        {
          "output_type": "stream",
          "name": "stdout",
          "text": [
            "1 3J Anesth (2016) 30:929–934\n",
            "DOI 10.1007/s00540-016-2252-8\n",
            "ORIGINAL ARTICLE\n",
            "The effects of  intravenous anesthetics on  QT interval \n",
            "during  anesthetic induction with  sevoflurane\n",
            "Yoshiaki  Terao1  · Ushio  Higashijima1 · Tomomi  Toyoda1 · Taiga  Ichinomiya1 · \n",
            "Makoto  Fukusaki1 · Tetsuya  Hara2 \n",
            "Received: 23 March 2016 / Accepted: 14 September 2016 / Published online: 21 September 2016 \n",
            "© Japanese Society of Anesthesiologists 2016\n",
            "both groups. At T3, MAP in Group T was higher than in \n",
            "Group P,\n"
          ]
        }
      ]
    },
    {
      "cell_type": "code",
      "source": [
        "from collections import Counter\n",
        "import nltk\n",
        "#tokenize the pdf_file:tokens\n",
        "tokens=nltk.word_tokenize(text)\n",
        "#convert the tokens to lower case:lower_tokens\n",
        "lower_tokens=[t.lower() for t in tokens]\n",
        "#create a counter with the lowercase tokens:\n",
        "from collections import Counter\n",
        "count=Counter(lower_tokens)\n",
        "#create acounter with  bag of words with lower_case tokens:bow_simple\n",
        "bow_simple=Counter(lower_tokens)\n",
        "#print the 10 most common tokens\n",
        "print(bow_simple.most_common(10))\n",
        "\n",
        "\n"
      ],
      "metadata": {
        "colab": {
          "base_uri": "https://localhost:8080/"
        },
        "id": "10fMlrQQlSkz",
        "outputId": "d2000908-bffd-4af5-8917-d7e2bbaf74c4"
      },
      "execution_count": 8,
      "outputs": [
        {
          "output_type": "stream",
          "name": "stdout",
          "text": [
            "[(',', 293), ('.', 279), ('the', 158), ('(', 144), (')', 143), ('of', 134), (']', 106), ('and', 105), ('[', 105), ('in', 76)]\n"
          ]
        }
      ]
    },
    {
      "cell_type": "code",
      "source": [
        "#import WorldNetLemmatizer\n",
        "from nltk.stem import WordNetLemmatizer\n",
        "wordnet_lemmatizer=WordNetLemmatizer()\n",
        "#retain only alphabetics:alpha_only\n",
        "import re\n",
        "alpha_only=[t for t in lower_tokens if re.match(r'[a-zA-Z]+',t)]\n",
        "#remove all stop_words:no_stops\n",
        "from nltk.corpus import stopwords\n",
        "import nltk\n",
        "nltk.download('stopwords')\n",
        "stop_words=set(stopwords.words('english'))\n",
        "no_stops=[t for t in alpha_only if t not in stop_words]\n",
        "# Instantiate the WordNetLemmatizer\n",
        "wordnet_lemmatizer = WordNetLemmatizer()\n",
        "import nltk\n",
        "nltk.download('wordnet')\n",
        "#lemmatize all the tokens into a new list:lemmatized\n",
        "lemmatized=[wordnet_lemmatizer.lemmatize(t) for t in no_stops]\n",
        "#create bag of words:bow\n",
        "bow=Counter(lemmatized)\n",
        "#print the 10 most common tokens\n",
        "print(bow.most_common(10))\n"
      ],
      "metadata": {
        "colab": {
          "base_uri": "https://localhost:8080/"
        },
        "id": "f7Y7-Tdkogxm",
        "outputId": "c2c76cec-2d5c-4f1e-9b51-2e1cd5912be3"
      },
      "execution_count": 9,
      "outputs": [
        {
          "output_type": "stream",
          "name": "stderr",
          "text": [
            "[nltk_data] Downloading package stopwords to /root/nltk_data...\n",
            "[nltk_data]   Unzipping corpora/stopwords.zip.\n",
            "[nltk_data] Downloading package wordnet to /root/nltk_data...\n"
          ]
        },
        {
          "output_type": "stream",
          "name": "stdout",
          "text": [
            "[('interval', 78), ('propofol', 50), ('qt', 48), ('qtc', 46), ('group', 41), ('sevoflurane', 37), ('patient', 32), ('anesthesia', 28), ('j', 28), ('induction', 27)]\n"
          ]
        }
      ]
    },
    {
      "cell_type": "code",
      "source": [
        "import nltk\n",
        "\n",
        "# Download the required resource\n",
        "nltk.download('averaged_perceptron_tagger_eng')\n"
      ],
      "metadata": {
        "id": "8yVEzOTeJ6Wy",
        "outputId": "f8360d32-bb81-40ba-c9ea-1683d0807f59",
        "colab": {
          "base_uri": "https://localhost:8080/"
        }
      },
      "execution_count": 12,
      "outputs": [
        {
          "output_type": "stream",
          "name": "stderr",
          "text": [
            "[nltk_data] Downloading package averaged_perceptron_tagger_eng to\n",
            "[nltk_data]     /root/nltk_data...\n",
            "[nltk_data]   Unzipping taggers/averaged_perceptron_tagger_eng.zip.\n"
          ]
        },
        {
          "output_type": "execute_result",
          "data": {
            "text/plain": [
              "True"
            ]
          },
          "metadata": {},
          "execution_count": 12
        }
      ]
    },
    {
      "cell_type": "code",
      "source": [
        "#tokenize the article into sentences:sentences\n",
        "sentences=nltk.sent_tokenize(text)\n",
        "#tokenize each sentences into words:token_sentences\n",
        "token_sentences=[nltk.word_tokenize(sent) for sent in sentences]\n",
        "#print the first 5 sentences\n",
        "print(token_sentences[:5])\n",
        "import nltk\n",
        "# Download the 'averaged_perceptron_tagger' resource\n",
        "nltk.download('averaged_perceptron_tagger')\n",
        "#Tag each sentence into parts of speech:pos_sentence\n",
        "pos_sentences=[nltk.pos_tag(sent) for sent in token_sentences]\n",
        "#print the first 5 pos_sentences\n",
        "print(pos_sentences[:5])"
      ],
      "metadata": {
        "id": "WEfEAzt2JBXD",
        "outputId": "9291871f-dad7-4591-85f1-93308ff37ce4",
        "colab": {
          "base_uri": "https://localhost:8080/"
        }
      },
      "execution_count": 14,
      "outputs": [
        {
          "output_type": "stream",
          "name": "stdout",
          "text": [
            "[['1', '3J', 'Anesth', '(', '2016', ')', '30:929–934', 'DOI', '10.1007/s00540-016-2252-8', 'ORIGINAL', 'ARTICLE', 'The', 'effects', 'of', 'intravenous', 'anesthetics', 'on', 'QT', 'interval', 'during', 'anesthetic', 'induction', 'with', 'sevoflurane', 'Yoshiaki', 'Terao1', '·', 'Ushio', 'Higashijima1', '·', 'Tomomi', 'Toyoda1', '·', 'Taiga', 'Ichinomiya1', '·', 'Makoto', 'Fukusaki1', '·', 'Tetsuya', 'Hara2', 'Received', ':', '23', 'March', '2016', '/', 'Accepted', ':', '14', 'September', '2016', '/', 'Published', 'online', ':', '21', 'September', '2016', '©', 'Japanese', 'Society', 'of', 'Anesthesiologists', '2016', 'both', 'groups', '.'], ['At', 'T3', ',', 'MAP', 'in', 'Group', 'T', 'was', 'higher', 'than', 'in', 'Group', 'P', ',', 'while', 'HR', 'had', 'reduced', 'in', 'both', 'groups', '.'], ['The', 'QTc', 'interval', 'was', 'prolonged', 'after', 'anesthesia', 'induction', 'in', 'Group', 'T', ',', 'but', 'did', 'not', 'change', 'at', 'any', 'time', 'point', 'in', 'Group', 'P.', 'The', 'QTc', 'interval', 'after', 'anesthesia', 'induction', 'in', 'Group', 'T', 'was', 'longer', 'than', 'in', 'Group', 'P.', 'Conclusion', 'We', 'concluded', 'that', 'an', 'injection', 'of', 'propofol', 'could', 'counteract', 'QTc', 'interval', 'prolongation', 'associated', 'with', 'sevoflurane', 'anesthesia', 'induction', '.'], ['Keywords', 'Propofol', '·', 'Sevoflurane', '·', 'Thiamylal', '·', 'QT', 'interval', '·', 'QT', 'dispersion', '·', 'Dysrhythmias', 'Introduction', 'The', 'QT', 'interval', 'of', 'the', 'electrocardiogram', '(', 'ECG', ')', 'represents', 'the', 'period', 'of', 'myocardial', 'depolarization', 'and', 'repolariza', '-', 'tion', '.'], ['Heart', 'rate-corrected', 'QT', '(', 'QTc', ')', 'interval', 'prolongation', 'is', 'associated', 'with', 'life-threatening', 'dysrhythmias', ',', 'including', 'polymorphic', 'ventricular', 'tachycardia', '(', 'torsade', 'de', 'pointes', ')', ',', 'and', 'it', 'is', 'important', 'to', 'know', 'which', 'anesthesia', 'patients', 'are', 'at', 'risk', 'of', 'prolonged', 'QTc', 'interval', '.']]\n",
            "[[('1', 'CD'), ('3J', 'CD'), ('Anesth', 'NNP'), ('(', '('), ('2016', 'CD'), (')', ')'), ('30:929–934', 'CD'), ('DOI', 'NNP'), ('10.1007/s00540-016-2252-8', 'JJ'), ('ORIGINAL', 'NNP'), ('ARTICLE', 'NNP'), ('The', 'DT'), ('effects', 'NNS'), ('of', 'IN'), ('intravenous', 'JJ'), ('anesthetics', 'NNS'), ('on', 'IN'), ('QT', 'NNP'), ('interval', 'NN'), ('during', 'IN'), ('anesthetic', 'JJ'), ('induction', 'NN'), ('with', 'IN'), ('sevoflurane', 'NN'), ('Yoshiaki', 'NNP'), ('Terao1', 'NNP'), ('·', 'NNP'), ('Ushio', 'NNP'), ('Higashijima1', 'NNP'), ('·', 'NNP'), ('Tomomi', 'NNP'), ('Toyoda1', 'NNP'), ('·', 'NNP'), ('Taiga', 'NNP'), ('Ichinomiya1', 'NNP'), ('·', 'NNP'), ('Makoto', 'NNP'), ('Fukusaki1', 'NNP'), ('·', 'NNP'), ('Tetsuya', 'NNP'), ('Hara2', 'NNP'), ('Received', 'VBD'), (':', ':'), ('23', 'CD'), ('March', 'NNP'), ('2016', 'CD'), ('/', 'NNP'), ('Accepted', 'VBD'), (':', ':'), ('14', 'CD'), ('September', 'NNP'), ('2016', 'CD'), ('/', 'NNP'), ('Published', 'NNP'), ('online', 'NN'), (':', ':'), ('21', 'CD'), ('September', 'NNP'), ('2016', 'CD'), ('©', 'NNP'), ('Japanese', 'JJ'), ('Society', 'NNP'), ('of', 'IN'), ('Anesthesiologists', 'NNPS'), ('2016', 'CD'), ('both', 'DT'), ('groups', 'NNS'), ('.', '.')], [('At', 'IN'), ('T3', 'NNP'), (',', ','), ('MAP', 'NNP'), ('in', 'IN'), ('Group', 'NNP'), ('T', 'NNP'), ('was', 'VBD'), ('higher', 'JJR'), ('than', 'IN'), ('in', 'IN'), ('Group', 'NNP'), ('P', 'NNP'), (',', ','), ('while', 'IN'), ('HR', 'NNP'), ('had', 'VBD'), ('reduced', 'VBN'), ('in', 'IN'), ('both', 'DT'), ('groups', 'NNS'), ('.', '.')], [('The', 'DT'), ('QTc', 'NNP'), ('interval', 'NN'), ('was', 'VBD'), ('prolonged', 'VBN'), ('after', 'IN'), ('anesthesia', 'JJ'), ('induction', 'NN'), ('in', 'IN'), ('Group', 'NNP'), ('T', 'NNP'), (',', ','), ('but', 'CC'), ('did', 'VBD'), ('not', 'RB'), ('change', 'VB'), ('at', 'IN'), ('any', 'DT'), ('time', 'NN'), ('point', 'NN'), ('in', 'IN'), ('Group', 'NNP'), ('P.', 'NNP'), ('The', 'DT'), ('QTc', 'NNP'), ('interval', 'NN'), ('after', 'IN'), ('anesthesia', 'JJ'), ('induction', 'NN'), ('in', 'IN'), ('Group', 'NNP'), ('T', 'NNP'), ('was', 'VBD'), ('longer', 'JJR'), ('than', 'IN'), ('in', 'IN'), ('Group', 'NNP'), ('P.', 'NNP'), ('Conclusion', 'NNP'), ('We', 'PRP'), ('concluded', 'VBD'), ('that', 'IN'), ('an', 'DT'), ('injection', 'NN'), ('of', 'IN'), ('propofol', 'NN'), ('could', 'MD'), ('counteract', 'VB'), ('QTc', 'NNP'), ('interval', 'JJ'), ('prolongation', 'NN'), ('associated', 'VBN'), ('with', 'IN'), ('sevoflurane', 'NN'), ('anesthesia', 'NN'), ('induction', 'NN'), ('.', '.')], [('Keywords', 'NNS'), ('Propofol', 'NNP'), ('·', 'NNP'), ('Sevoflurane', 'NNP'), ('·', 'NNP'), ('Thiamylal', 'NNP'), ('·', 'NNP'), ('QT', 'NNP'), ('interval', 'NN'), ('·', 'NNP'), ('QT', 'NNP'), ('dispersion', 'NN'), ('·', 'NNP'), ('Dysrhythmias', 'NNP'), ('Introduction', 'NNP'), ('The', 'DT'), ('QT', 'NNP'), ('interval', 'NN'), ('of', 'IN'), ('the', 'DT'), ('electrocardiogram', 'NN'), ('(', '('), ('ECG', 'NNP'), (')', ')'), ('represents', 'VBZ'), ('the', 'DT'), ('period', 'NN'), ('of', 'IN'), ('myocardial', 'JJ'), ('depolarization', 'NN'), ('and', 'CC'), ('repolariza', 'VB'), ('-', ':'), ('tion', 'NN'), ('.', '.')], [('Heart', 'NNP'), ('rate-corrected', 'JJ'), ('QT', 'NNP'), ('(', '('), ('QTc', 'NNP'), (')', ')'), ('interval', 'NN'), ('prolongation', 'NN'), ('is', 'VBZ'), ('associated', 'VBN'), ('with', 'IN'), ('life-threatening', 'JJ'), ('dysrhythmias', 'NNS'), (',', ','), ('including', 'VBG'), ('polymorphic', 'JJ'), ('ventricular', 'JJ'), ('tachycardia', 'NN'), ('(', '('), ('torsade', 'FW'), ('de', 'FW'), ('pointes', 'NNS'), (')', ')'), (',', ','), ('and', 'CC'), ('it', 'PRP'), ('is', 'VBZ'), ('important', 'JJ'), ('to', 'TO'), ('know', 'VB'), ('which', 'WDT'), ('anesthesia', 'NN'), ('patients', 'NNS'), ('are', 'VBP'), ('at', 'IN'), ('risk', 'NN'), ('of', 'IN'), ('prolonged', 'JJ'), ('QTc', 'NNP'), ('interval', 'NN'), ('.', '.')]]\n"
          ]
        },
        {
          "output_type": "stream",
          "name": "stderr",
          "text": [
            "[nltk_data] Downloading package averaged_perceptron_tagger to\n",
            "[nltk_data]     /root/nltk_data...\n",
            "[nltk_data]   Package averaged_perceptron_tagger is already up-to-\n",
            "[nltk_data]       date!\n"
          ]
        }
      ]
    }
  ]
}